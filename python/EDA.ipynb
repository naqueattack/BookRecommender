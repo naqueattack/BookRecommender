{
 "cells": [
  {
   "cell_type": "code",
   "execution_count": 1,
   "id": "2eb1c188-35af-40fb-9fc8-b5eeac826f6a",
   "metadata": {},
   "outputs": [],
   "source": [
    "import pandas as pd"
   ]
  },
  {
   "cell_type": "code",
   "execution_count": 2,
   "id": "6982031e-ae74-46a7-b172-a67ac5b55dcc",
   "metadata": {},
   "outputs": [
    {
     "data": {
      "text/html": [
       "<div>\n",
       "<style scoped>\n",
       "    .dataframe tbody tr th:only-of-type {\n",
       "        vertical-align: middle;\n",
       "    }\n",
       "\n",
       "    .dataframe tbody tr th {\n",
       "        vertical-align: top;\n",
       "    }\n",
       "\n",
       "    .dataframe thead th {\n",
       "        text-align: right;\n",
       "    }\n",
       "</style>\n",
       "<table border=\"1\" class=\"dataframe\">\n",
       "  <thead>\n",
       "    <tr style=\"text-align: right;\">\n",
       "      <th></th>\n",
       "      <th>bookID</th>\n",
       "      <th>title</th>\n",
       "      <th>authors</th>\n",
       "      <th>average_rating</th>\n",
       "      <th>isbn</th>\n",
       "      <th>isbn13</th>\n",
       "      <th>language_code</th>\n",
       "      <th>num_pages</th>\n",
       "      <th>ratings_count</th>\n",
       "      <th>text_reviews_count</th>\n",
       "      <th>publication_date</th>\n",
       "      <th>publisher</th>\n",
       "    </tr>\n",
       "  </thead>\n",
       "  <tbody>\n",
       "    <tr>\n",
       "      <th>0</th>\n",
       "      <td>1</td>\n",
       "      <td>Harry Potter and the Half-Blood Prince (Harry ...</td>\n",
       "      <td>J.K. Rowling/Mary GrandPrÃ©</td>\n",
       "      <td>4.57</td>\n",
       "      <td>439785960</td>\n",
       "      <td>9.78044E+12</td>\n",
       "      <td>eng</td>\n",
       "      <td>652</td>\n",
       "      <td>2095690</td>\n",
       "      <td>27591</td>\n",
       "      <td>9/16/2006</td>\n",
       "      <td>Scholastic Inc.</td>\n",
       "    </tr>\n",
       "    <tr>\n",
       "      <th>1</th>\n",
       "      <td>2</td>\n",
       "      <td>Harry Potter and the Order of the Phoenix (Har...</td>\n",
       "      <td>J.K. Rowling/Mary GrandPrÃ©</td>\n",
       "      <td>4.49</td>\n",
       "      <td>439358078</td>\n",
       "      <td>9.78044E+12</td>\n",
       "      <td>eng</td>\n",
       "      <td>870</td>\n",
       "      <td>2153167</td>\n",
       "      <td>29221</td>\n",
       "      <td>9/1/2004</td>\n",
       "      <td>Scholastic Inc.</td>\n",
       "    </tr>\n",
       "    <tr>\n",
       "      <th>2</th>\n",
       "      <td>4</td>\n",
       "      <td>Harry Potter and the Chamber of Secrets (Harry...</td>\n",
       "      <td>J.K. Rowling</td>\n",
       "      <td>4.42</td>\n",
       "      <td>439554896</td>\n",
       "      <td>9.78044E+12</td>\n",
       "      <td>eng</td>\n",
       "      <td>352</td>\n",
       "      <td>6333</td>\n",
       "      <td>244</td>\n",
       "      <td>11/1/2003</td>\n",
       "      <td>Scholastic</td>\n",
       "    </tr>\n",
       "    <tr>\n",
       "      <th>3</th>\n",
       "      <td>5</td>\n",
       "      <td>Harry Potter and the Prisoner of Azkaban (Harr...</td>\n",
       "      <td>J.K. Rowling/Mary GrandPrÃ©</td>\n",
       "      <td>4.56</td>\n",
       "      <td>043965548X</td>\n",
       "      <td>9.78044E+12</td>\n",
       "      <td>eng</td>\n",
       "      <td>435</td>\n",
       "      <td>2339585</td>\n",
       "      <td>36325</td>\n",
       "      <td>5/1/2004</td>\n",
       "      <td>Scholastic Inc.</td>\n",
       "    </tr>\n",
       "    <tr>\n",
       "      <th>4</th>\n",
       "      <td>8</td>\n",
       "      <td>Harry Potter Boxed Set  Books 1-5 (Harry Potte...</td>\n",
       "      <td>J.K. Rowling/Mary GrandPrÃ©</td>\n",
       "      <td>4.78</td>\n",
       "      <td>439682584</td>\n",
       "      <td>9.78044E+12</td>\n",
       "      <td>eng</td>\n",
       "      <td>2690</td>\n",
       "      <td>41428</td>\n",
       "      <td>164</td>\n",
       "      <td>9/13/2004</td>\n",
       "      <td>Scholastic</td>\n",
       "    </tr>\n",
       "  </tbody>\n",
       "</table>\n",
       "</div>"
      ],
      "text/plain": [
       "   bookID                                              title  \\\n",
       "0       1  Harry Potter and the Half-Blood Prince (Harry ...   \n",
       "1       2  Harry Potter and the Order of the Phoenix (Har...   \n",
       "2       4  Harry Potter and the Chamber of Secrets (Harry...   \n",
       "3       5  Harry Potter and the Prisoner of Azkaban (Harr...   \n",
       "4       8  Harry Potter Boxed Set  Books 1-5 (Harry Potte...   \n",
       "\n",
       "                       authors average_rating        isbn       isbn13  \\\n",
       "0  J.K. Rowling/Mary GrandPrÃ©           4.57   439785960  9.78044E+12   \n",
       "1  J.K. Rowling/Mary GrandPrÃ©           4.49   439358078  9.78044E+12   \n",
       "2                 J.K. Rowling           4.42   439554896  9.78044E+12   \n",
       "3  J.K. Rowling/Mary GrandPrÃ©           4.56  043965548X  9.78044E+12   \n",
       "4  J.K. Rowling/Mary GrandPrÃ©           4.78   439682584  9.78044E+12   \n",
       "\n",
       "  language_code   num_pages  ratings_count  text_reviews_count  \\\n",
       "0           eng         652        2095690               27591   \n",
       "1           eng         870        2153167               29221   \n",
       "2           eng         352           6333                 244   \n",
       "3           eng         435        2339585               36325   \n",
       "4           eng        2690          41428                 164   \n",
       "\n",
       "  publication_date        publisher  \n",
       "0        9/16/2006  Scholastic Inc.  \n",
       "1         9/1/2004  Scholastic Inc.  \n",
       "2        11/1/2003       Scholastic  \n",
       "3         5/1/2004  Scholastic Inc.  \n",
       "4        9/13/2004       Scholastic  "
      ]
     },
     "execution_count": 2,
     "metadata": {},
     "output_type": "execute_result"
    }
   ],
   "source": [
    "df = pd.read_csv('../data/books.csv')\n",
    "df.head()"
   ]
  },
  {
   "cell_type": "code",
   "execution_count": 3,
   "id": "0f30f32c-abd8-4e90-8efd-a44a53804245",
   "metadata": {},
   "outputs": [
    {
     "data": {
      "text/html": [
       "<div>\n",
       "<style scoped>\n",
       "    .dataframe tbody tr th:only-of-type {\n",
       "        vertical-align: middle;\n",
       "    }\n",
       "\n",
       "    .dataframe tbody tr th {\n",
       "        vertical-align: top;\n",
       "    }\n",
       "\n",
       "    .dataframe thead th {\n",
       "        text-align: right;\n",
       "    }\n",
       "</style>\n",
       "<table border=\"1\" class=\"dataframe\">\n",
       "  <thead>\n",
       "    <tr style=\"text-align: right;\">\n",
       "      <th></th>\n",
       "      <th>bookID</th>\n",
       "      <th>ratings_count</th>\n",
       "      <th>text_reviews_count</th>\n",
       "    </tr>\n",
       "  </thead>\n",
       "  <tbody>\n",
       "    <tr>\n",
       "      <th>count</th>\n",
       "      <td>11127.000000</td>\n",
       "      <td>1.112700e+04</td>\n",
       "      <td>11127.000000</td>\n",
       "    </tr>\n",
       "    <tr>\n",
       "      <th>mean</th>\n",
       "      <td>21310.938887</td>\n",
       "      <td>1.793649e+04</td>\n",
       "      <td>541.864474</td>\n",
       "    </tr>\n",
       "    <tr>\n",
       "      <th>std</th>\n",
       "      <td>13093.358023</td>\n",
       "      <td>1.124794e+05</td>\n",
       "      <td>2576.174610</td>\n",
       "    </tr>\n",
       "    <tr>\n",
       "      <th>min</th>\n",
       "      <td>1.000000</td>\n",
       "      <td>0.000000e+00</td>\n",
       "      <td>0.000000</td>\n",
       "    </tr>\n",
       "    <tr>\n",
       "      <th>25%</th>\n",
       "      <td>10287.000000</td>\n",
       "      <td>1.040000e+02</td>\n",
       "      <td>9.000000</td>\n",
       "    </tr>\n",
       "    <tr>\n",
       "      <th>50%</th>\n",
       "      <td>20287.000000</td>\n",
       "      <td>7.450000e+02</td>\n",
       "      <td>47.000000</td>\n",
       "    </tr>\n",
       "    <tr>\n",
       "      <th>75%</th>\n",
       "      <td>32104.500000</td>\n",
       "      <td>4.993500e+03</td>\n",
       "      <td>237.500000</td>\n",
       "    </tr>\n",
       "    <tr>\n",
       "      <th>max</th>\n",
       "      <td>45641.000000</td>\n",
       "      <td>4.597666e+06</td>\n",
       "      <td>94265.000000</td>\n",
       "    </tr>\n",
       "  </tbody>\n",
       "</table>\n",
       "</div>"
      ],
      "text/plain": [
       "             bookID  ratings_count  text_reviews_count\n",
       "count  11127.000000   1.112700e+04        11127.000000\n",
       "mean   21310.938887   1.793649e+04          541.864474\n",
       "std    13093.358023   1.124794e+05         2576.174610\n",
       "min        1.000000   0.000000e+00            0.000000\n",
       "25%    10287.000000   1.040000e+02            9.000000\n",
       "50%    20287.000000   7.450000e+02           47.000000\n",
       "75%    32104.500000   4.993500e+03          237.500000\n",
       "max    45641.000000   4.597666e+06        94265.000000"
      ]
     },
     "execution_count": 3,
     "metadata": {},
     "output_type": "execute_result"
    }
   ],
   "source": [
    "df.describe()"
   ]
  },
  {
   "cell_type": "code",
   "execution_count": 4,
   "id": "8e31a5c2-fd09-43f2-a240-7875ef56e619",
   "metadata": {},
   "outputs": [
    {
     "data": {
      "text/plain": [
       "10352"
      ]
     },
     "execution_count": 4,
     "metadata": {},
     "output_type": "execute_result"
    }
   ],
   "source": [
    "df['title'].nunique()"
   ]
  },
  {
   "cell_type": "code",
   "execution_count": 5,
   "id": "38976589-e0a2-4ad8-a698-61b6fe08b9af",
   "metadata": {},
   "outputs": [
    {
     "data": {
      "text/plain": [
       "11126"
      ]
     },
     "execution_count": 5,
     "metadata": {},
     "output_type": "execute_result"
    }
   ],
   "source": [
    "df['isbn'].nunique()"
   ]
  },
  {
   "cell_type": "code",
   "execution_count": 6,
   "id": "83667aaa-f11b-4af5-a288-eaf956b039be",
   "metadata": {},
   "outputs": [
    {
     "data": {
      "text/plain": [
       "1426"
      ]
     },
     "execution_count": 6,
     "metadata": {},
     "output_type": "execute_result"
    }
   ],
   "source": [
    "df[df['ratings_count'] <30]['title'].count()"
   ]
  },
  {
   "cell_type": "code",
   "execution_count": 7,
   "id": "384cb117-c127-4463-804e-5208940be8bb",
   "metadata": {},
   "outputs": [],
   "source": [
    "#Eliminating books with less than 30 reviews for analysis\n",
    "df = df[df['ratings_count'] > 29]"
   ]
  },
  {
   "cell_type": "code",
   "execution_count": 11,
   "id": "fce97782-1cf5-465d-9a35-64f2639095ff",
   "metadata": {},
   "outputs": [
    {
     "data": {
      "text/plain": [
       "language_code\n",
       "eng    9393\n",
       "Name: count, dtype: int64"
      ]
     },
     "execution_count": 11,
     "metadata": {},
     "output_type": "execute_result"
    }
   ],
   "source": [
    "df['language_code'].value_counts()"
   ]
  },
  {
   "cell_type": "code",
   "execution_count": 9,
   "id": "2eacc5e7-6fac-4e1e-ab74-b0bfa8d93940",
   "metadata": {},
   "outputs": [],
   "source": [
    "#Remove non-english books\n",
    "df['language_code'] = df['language_code'].replace({'en-US':'eng','en-GB':'eng','en-CA':'eng'})\n",
    "df  =  df[df['language_code'] == 'eng']"
   ]
  },
  {
   "cell_type": "code",
   "execution_count": 12,
   "id": "4b6158f8-81f6-4250-8a57-6af61827caaf",
   "metadata": {},
   "outputs": [
    {
     "data": {
      "text/plain": [
       "bookID                 int64\n",
       "title                 object\n",
       "authors               object\n",
       "average_rating        object\n",
       "isbn                  object\n",
       "isbn13                object\n",
       "language_code         object\n",
       "  num_pages           object\n",
       "ratings_count          int64\n",
       "text_reviews_count     int64\n",
       "publication_date      object\n",
       "publisher             object\n",
       "dtype: object"
      ]
     },
     "execution_count": 12,
     "metadata": {},
     "output_type": "execute_result"
    }
   ],
   "source": [
    "df.dtypes"
   ]
  },
  {
   "cell_type": "code",
   "execution_count": 23,
   "id": "cccd02c4-9963-4656-86fd-f4dad22ec244",
   "metadata": {},
   "outputs": [],
   "source": [
    "#clean and convert num_pages to integer\n",
    "df = df.rename(columns = {'  num_pages':'num_pages'})\n",
    "df['num_pages'] = df['num_pages'].astype('int')"
   ]
  },
  {
   "cell_type": "code",
   "execution_count": 48,
   "id": "2932feda-9602-4d9e-9e2b-32e1cc47f220",
   "metadata": {},
   "outputs": [],
   "source": [
    "df['year'] = df['publication_date'].str.strip().str[-4:]\n",
    "df['year'] = df['year'].astype('int')"
   ]
  },
  {
   "cell_type": "code",
   "execution_count": 74,
   "id": "10a1e498-469a-46da-859a-bfe315094d77",
   "metadata": {},
   "outputs": [],
   "source": [
    "df['average_rating'] = df['average_rating'].astype('float')"
   ]
  },
  {
   "cell_type": "code",
   "execution_count": 94,
   "id": "045c3f5d-cc6f-4ce5-b077-b10c77938a40",
   "metadata": {},
   "outputs": [],
   "source": [
    "number_of_books = df[['authors','title']].groupby('authors').count()\n",
    "number_of_books = number_of_books.rename(columns={'title':'number_of_books'})\n",
    "df = df.merge(number_of_books, on = 'authors')"
   ]
  },
  {
   "cell_type": "code",
   "execution_count": 89,
   "id": "bc79d9cd-60e2-4af5-a128-4e114d378cb2",
   "metadata": {},
   "outputs": [],
   "source": [
    "import matplotlib.pyplot as plt"
   ]
  },
  {
   "cell_type": "code",
   "execution_count": 77,
   "id": "660c7c65-c8b1-43f0-a08b-97d37ab5c59e",
   "metadata": {},
   "outputs": [
    {
     "data": {
      "text/plain": [
       "<matplotlib.collections.PathCollection at 0x1d18a428520>"
      ]
     },
     "execution_count": 77,
     "metadata": {},
     "output_type": "execute_result"
    },
    {
     "data": {
      "image/png": "[encoded data removed]",
      "text/plain": [
       "<Figure size 640x480 with 1 Axes>"
      ]
     },
     "metadata": {},
     "output_type": "display_data"
    }
   ],
   "source": [
    "plt.scatter(df['num_pages'],df['average_rating'])"
   ]
  },
  {
   "cell_type": "code",
   "execution_count": 100,
   "id": "81f11ff7-e856-424e-9b8d-155b4b5cf9ba",
   "metadata": {},
   "outputs": [],
   "source": [
    "quant_columns = ['average_rating','num_pages','ratings_count','text_reviews_count','year','number_of_books']"
   ]
  },
  {
   "cell_type": "code",
   "execution_count": 101,
   "id": "0b938cb2-3277-4d36-afa7-e333112797b9",
   "metadata": {},
   "outputs": [
    {
     "data": {
      "text/html": [
       "<div>\n",
       "<style scoped>\n",
       "    .dataframe tbody tr th:only-of-type {\n",
       "        vertical-align: middle;\n",
       "    }\n",
       "\n",
       "    .dataframe tbody tr th {\n",
       "        vertical-align: top;\n",
       "    }\n",
       "\n",
       "    .dataframe thead th {\n",
       "        text-align: right;\n",
       "    }\n",
       "</style>\n",
       "<table border=\"1\" class=\"dataframe\">\n",
       "  <thead>\n",
       "    <tr style=\"text-align: right;\">\n",
       "      <th></th>\n",
       "      <th>average_rating</th>\n",
       "      <th>num_pages</th>\n",
       "      <th>ratings_count</th>\n",
       "      <th>text_reviews_count</th>\n",
       "      <th>year</th>\n",
       "      <th>number_of_books</th>\n",
       "    </tr>\n",
       "  </thead>\n",
       "  <tbody>\n",
       "    <tr>\n",
       "      <th>average_rating</th>\n",
       "      <td>1.000000</td>\n",
       "      <td>0.199698</td>\n",
       "      <td>0.045741</td>\n",
       "      <td>0.036382</td>\n",
       "      <td>-0.069823</td>\n",
       "      <td>-0.021237</td>\n",
       "    </tr>\n",
       "    <tr>\n",
       "      <th>num_pages</th>\n",
       "      <td>0.199698</td>\n",
       "      <td>1.000000</td>\n",
       "      <td>0.031456</td>\n",
       "      <td>0.032932</td>\n",
       "      <td>-0.032647</td>\n",
       "      <td>0.056380</td>\n",
       "    </tr>\n",
       "    <tr>\n",
       "      <th>ratings_count</th>\n",
       "      <td>0.045741</td>\n",
       "      <td>0.031456</td>\n",
       "      <td>1.000000</td>\n",
       "      <td>0.865626</td>\n",
       "      <td>0.045275</td>\n",
       "      <td>0.056181</td>\n",
       "    </tr>\n",
       "    <tr>\n",
       "      <th>text_reviews_count</th>\n",
       "      <td>0.036382</td>\n",
       "      <td>0.032932</td>\n",
       "      <td>0.865626</td>\n",
       "      <td>1.000000</td>\n",
       "      <td>0.069442</td>\n",
       "      <td>0.046375</td>\n",
       "    </tr>\n",
       "    <tr>\n",
       "      <th>year</th>\n",
       "      <td>-0.069823</td>\n",
       "      <td>-0.032647</td>\n",
       "      <td>0.045275</td>\n",
       "      <td>0.069442</td>\n",
       "      <td>1.000000</td>\n",
       "      <td>-0.000212</td>\n",
       "    </tr>\n",
       "    <tr>\n",
       "      <th>number_of_books</th>\n",
       "      <td>-0.021237</td>\n",
       "      <td>0.056380</td>\n",
       "      <td>0.056181</td>\n",
       "      <td>0.046375</td>\n",
       "      <td>-0.000212</td>\n",
       "      <td>1.000000</td>\n",
       "    </tr>\n",
       "  </tbody>\n",
       "</table>\n",
       "</div>"
      ],
      "text/plain": [
       "                    average_rating  num_pages  ratings_count  \\\n",
       "average_rating            1.000000   0.199698       0.045741   \n",
       "num_pages                 0.199698   1.000000       0.031456   \n",
       "ratings_count             0.045741   0.031456       1.000000   \n",
       "text_reviews_count        0.036382   0.032932       0.865626   \n",
       "year                     -0.069823  -0.032647       0.045275   \n",
       "number_of_books          -0.021237   0.056380       0.056181   \n",
       "\n",
       "                    text_reviews_count      year  number_of_books  \n",
       "average_rating                0.036382 -0.069823        -0.021237  \n",
       "num_pages                     0.032932 -0.032647         0.056380  \n",
       "ratings_count                 0.865626  0.045275         0.056181  \n",
       "text_reviews_count            1.000000  0.069442         0.046375  \n",
       "year                          0.069442  1.000000        -0.000212  \n",
       "number_of_books               0.046375 -0.000212         1.000000  "
      ]
     },
     "execution_count": 101,
     "metadata": {},
     "output_type": "execute_result"
    }
   ],
   "source": [
    "df[quant_columns].corr()"
   ]
  },
  {
   "cell_type": "code",
   "execution_count": 95,
   "id": "30aeaa0a-1ac4-4620-b620-85c3b062b349",
   "metadata": {},
   "outputs": [
    {
     "data": {
      "text/html": [
       "<div>\n",
       "<style scoped>\n",
       "    .dataframe tbody tr th:only-of-type {\n",
       "        vertical-align: middle;\n",
       "    }\n",
       "\n",
       "    .dataframe tbody tr th {\n",
       "        vertical-align: top;\n",
       "    }\n",
       "\n",
       "    .dataframe thead th {\n",
       "        text-align: right;\n",
       "    }\n",
       "</style>\n",
       "<table border=\"1\" class=\"dataframe\">\n",
       "  <thead>\n",
       "    <tr style=\"text-align: right;\">\n",
       "      <th></th>\n",
       "      <th>average_rating</th>\n",
       "      <th>number_of_books</th>\n",
       "    </tr>\n",
       "    <tr>\n",
       "      <th>authors</th>\n",
       "      <th></th>\n",
       "      <th></th>\n",
       "    </tr>\n",
       "  </thead>\n",
       "  <tbody>\n",
       "    <tr>\n",
       "      <th>Saul Leiter/Martin Harrison</th>\n",
       "      <td>4.730000</td>\n",
       "      <td>1.0</td>\n",
       "    </tr>\n",
       "    <tr>\n",
       "      <th>Murray Sayle/Charles Flowers/Elliott Erwitt</th>\n",
       "      <td>4.720000</td>\n",
       "      <td>1.0</td>\n",
       "    </tr>\n",
       "    <tr>\n",
       "      <th>Bill Watterson</th>\n",
       "      <td>4.708571</td>\n",
       "      <td>7.0</td>\n",
       "    </tr>\n",
       "    <tr>\n",
       "      <th>Anonymous</th>\n",
       "      <td>4.700000</td>\n",
       "      <td>1.0</td>\n",
       "    </tr>\n",
       "    <tr>\n",
       "      <th>David Allen Sibley</th>\n",
       "      <td>4.690000</td>\n",
       "      <td>1.0</td>\n",
       "    </tr>\n",
       "    <tr>\n",
       "      <th>...</th>\n",
       "      <td>...</td>\n",
       "      <td>...</td>\n",
       "    </tr>\n",
       "    <tr>\n",
       "      <th>Howard Chaykin/Michelle Madsen</th>\n",
       "      <td>2.820000</td>\n",
       "      <td>1.0</td>\n",
       "    </tr>\n",
       "    <tr>\n",
       "      <th>Sarah Fielding/Candace Ward</th>\n",
       "      <td>2.630000</td>\n",
       "      <td>1.0</td>\n",
       "    </tr>\n",
       "    <tr>\n",
       "      <th>Penny Jordan</th>\n",
       "      <td>2.610000</td>\n",
       "      <td>1.0</td>\n",
       "    </tr>\n",
       "    <tr>\n",
       "      <th>Gia Bathory Al Babel</th>\n",
       "      <td>2.550000</td>\n",
       "      <td>1.0</td>\n",
       "    </tr>\n",
       "    <tr>\n",
       "      <th>Emma McLaughlin/Nicola Kraus</th>\n",
       "      <td>2.400000</td>\n",
       "      <td>1.0</td>\n",
       "    </tr>\n",
       "  </tbody>\n",
       "</table>\n",
       "<p>5542 rows × 2 columns</p>\n",
       "</div>"
      ],
      "text/plain": [
       "                                             average_rating  number_of_books\n",
       "authors                                                                     \n",
       "Saul Leiter/Martin Harrison                        4.730000              1.0\n",
       "Murray Sayle/Charles Flowers/Elliott Erwitt        4.720000              1.0\n",
       "Bill Watterson                                     4.708571              7.0\n",
       "Anonymous                                          4.700000              1.0\n",
       "David Allen Sibley                                 4.690000              1.0\n",
       "...                                                     ...              ...\n",
       "Howard Chaykin/Michelle Madsen                     2.820000              1.0\n",
       "Sarah Fielding/Candace Ward                        2.630000              1.0\n",
       "Penny Jordan                                       2.610000              1.0\n",
       "Gia Bathory Al Babel                               2.550000              1.0\n",
       "Emma McLaughlin/Nicola Kraus                       2.400000              1.0\n",
       "\n",
       "[5542 rows x 2 columns]"
      ]
     },
     "execution_count": 95,
     "metadata": {},
     "output_type": "execute_result"
    }
   ],
   "source": [
    "#average rating\n",
    "df[['authors','average_rating','number_of_books']].groupby('authors').mean().sort_values('average_rating',ascending = False)"
   ]
  },
  {
   "cell_type": "code",
   "execution_count": 96,
   "id": "7f3a7257-61ca-460d-aa32-c3e1f00bc9d6",
   "metadata": {},
   "outputs": [
    {
     "data": {
      "text/html": [
       "<div>\n",
       "<style scoped>\n",
       "    .dataframe tbody tr th:only-of-type {\n",
       "        vertical-align: middle;\n",
       "    }\n",
       "\n",
       "    .dataframe tbody tr th {\n",
       "        vertical-align: top;\n",
       "    }\n",
       "\n",
       "    .dataframe thead th {\n",
       "        text-align: right;\n",
       "    }\n",
       "</style>\n",
       "<table border=\"1\" class=\"dataframe\">\n",
       "  <thead>\n",
       "    <tr style=\"text-align: right;\">\n",
       "      <th></th>\n",
       "      <th>average_rating</th>\n",
       "      <th>number_of_books</th>\n",
       "    </tr>\n",
       "    <tr>\n",
       "      <th>authors</th>\n",
       "      <th></th>\n",
       "      <th></th>\n",
       "    </tr>\n",
       "  </thead>\n",
       "  <tbody>\n",
       "    <tr>\n",
       "      <th>Bill Watterson</th>\n",
       "      <td>4.708571</td>\n",
       "      <td>7.0</td>\n",
       "    </tr>\n",
       "    <tr>\n",
       "      <th>Richard P. Feynman/Robert B. Leighton/Matthew L. Sands</th>\n",
       "      <td>4.615000</td>\n",
       "      <td>2.0</td>\n",
       "    </tr>\n",
       "    <tr>\n",
       "      <th>Hayao Miyazaki/Matt Thorn/Kaori Inoue/Joe Yamazaki/Walden Wong/Izumi Evers</th>\n",
       "      <td>4.613333</td>\n",
       "      <td>3.0</td>\n",
       "    </tr>\n",
       "    <tr>\n",
       "      <th>Arthur Conan Doyle/Leslie S. Klinger</th>\n",
       "      <td>4.585000</td>\n",
       "      <td>2.0</td>\n",
       "    </tr>\n",
       "    <tr>\n",
       "      <th>Don Rosa</th>\n",
       "      <td>4.575000</td>\n",
       "      <td>2.0</td>\n",
       "    </tr>\n",
       "    <tr>\n",
       "      <th>...</th>\n",
       "      <td>...</td>\n",
       "      <td>...</td>\n",
       "    </tr>\n",
       "    <tr>\n",
       "      <th>Diane Johnson</th>\n",
       "      <td>3.195000</td>\n",
       "      <td>2.0</td>\n",
       "    </tr>\n",
       "    <tr>\n",
       "      <th>Gregory Maguire/Douglas Smith</th>\n",
       "      <td>3.175000</td>\n",
       "      <td>2.0</td>\n",
       "    </tr>\n",
       "    <tr>\n",
       "      <th>Robb Forman Dew</th>\n",
       "      <td>3.160000</td>\n",
       "      <td>2.0</td>\n",
       "    </tr>\n",
       "    <tr>\n",
       "      <th>Walter Kirn</th>\n",
       "      <td>3.150000</td>\n",
       "      <td>2.0</td>\n",
       "    </tr>\n",
       "    <tr>\n",
       "      <th>Monica Ali</th>\n",
       "      <td>3.065000</td>\n",
       "      <td>2.0</td>\n",
       "    </tr>\n",
       "  </tbody>\n",
       "</table>\n",
       "<p>1180 rows × 2 columns</p>\n",
       "</div>"
      ],
      "text/plain": [
       "                                                    average_rating  \\\n",
       "authors                                                              \n",
       "Bill Watterson                                            4.708571   \n",
       "Richard P. Feynman/Robert B. Leighton/Matthew L...        4.615000   \n",
       "Hayao Miyazaki/Matt Thorn/Kaori Inoue/Joe Yamaz...        4.613333   \n",
       "Arthur Conan Doyle/Leslie S. Klinger                      4.585000   \n",
       "Don Rosa                                                  4.575000   \n",
       "...                                                            ...   \n",
       "Diane Johnson                                             3.195000   \n",
       "Gregory Maguire/Douglas Smith                             3.175000   \n",
       "Robb Forman Dew                                           3.160000   \n",
       "Walter Kirn                                               3.150000   \n",
       "Monica Ali                                                3.065000   \n",
       "\n",
       "                                                    number_of_books  \n",
       "authors                                                              \n",
       "Bill Watterson                                                  7.0  \n",
       "Richard P. Feynman/Robert B. Leighton/Matthew L...              2.0  \n",
       "Hayao Miyazaki/Matt Thorn/Kaori Inoue/Joe Yamaz...              3.0  \n",
       "Arthur Conan Doyle/Leslie S. Klinger                            2.0  \n",
       "Don Rosa                                                        2.0  \n",
       "...                                                             ...  \n",
       "Diane Johnson                                                   2.0  \n",
       "Gregory Maguire/Douglas Smith                                   2.0  \n",
       "Robb Forman Dew                                                 2.0  \n",
       "Walter Kirn                                                     2.0  \n",
       "Monica Ali                                                      2.0  \n",
       "\n",
       "[1180 rows x 2 columns]"
      ]
     },
     "execution_count": 96,
     "metadata": {},
     "output_type": "execute_result"
    }
   ],
   "source": [
    "#average ratings for authors with more than 1 book\n",
    "df[df['number_of_books']>1][['authors','average_rating','number_of_books']].groupby('authors').mean().sort_values('average_rating',ascending = False)"
   ]
  },
  {
   "cell_type": "code",
   "execution_count": null,
   "id": "d830acd8-23df-4bdf-81f6-6e38f2d47d77",
   "metadata": {},
   "outputs": [],
   "source": []
  }
 ],
 "metadata": {
  "kernelspec": {
   "display_name": "new_env",
   "language": "python",
   "name": "new_env"
  },
  "language_info": {
   "codemirror_mode": {
    "name": "ipython",
    "version": 3
   },
   "file_extension": ".py",
   "mimetype": "text/x-python",
   "name": "python",
   "nbconvert_exporter": "python",
   "pygments_lexer": "ipython3",
   "version": "3.9.16"
  }
 },
 "nbformat": 4,
 "nbformat_minor": 5
}
