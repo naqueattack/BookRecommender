{
 "cells": [
  {
   "cell_type": "code",
   "execution_count": 1,
   "id": "2eb1c188-35af-40fb-9fc8-b5eeac826f6a",
   "metadata": {},
   "outputs": [],
   "source": [
    "import pandas as pd"
   ]
  },
  {
   "cell_type": "code",
   "execution_count": 2,
   "id": "6982031e-ae74-46a7-b172-a67ac5b55dcc",
   "metadata": {},
   "outputs": [
    {
     "data": {
      "text/html": [
       "<div>\n",
       "<style scoped>\n",
       "    .dataframe tbody tr th:only-of-type {\n",
       "        vertical-align: middle;\n",
       "    }\n",
       "\n",
       "    .dataframe tbody tr th {\n",
       "        vertical-align: top;\n",
       "    }\n",
       "\n",
       "    .dataframe thead th {\n",
       "        text-align: right;\n",
       "    }\n",
       "</style>\n",
       "<table border=\"1\" class=\"dataframe\">\n",
       "  <thead>\n",
       "    <tr style=\"text-align: right;\">\n",
       "      <th></th>\n",
       "      <th>bookID</th>\n",
       "      <th>title</th>\n",
       "      <th>authors</th>\n",
       "      <th>average_rating</th>\n",
       "      <th>isbn</th>\n",
       "      <th>isbn13</th>\n",
       "      <th>language_code</th>\n",
       "      <th>num_pages</th>\n",
       "      <th>ratings_count</th>\n",
       "      <th>text_reviews_count</th>\n",
       "      <th>publication_date</th>\n",
       "      <th>publisher</th>\n",
       "    </tr>\n",
       "  </thead>\n",
       "  <tbody>\n",
       "    <tr>\n",
       "      <th>0</th>\n",
       "      <td>1</td>\n",
       "      <td>Harry Potter and the Half-Blood Prince (Harry ...</td>\n",
       "      <td>J.K. Rowling/Mary GrandPrÃ©</td>\n",
       "      <td>4.57</td>\n",
       "      <td>439785960</td>\n",
       "      <td>9.78044E+12</td>\n",
       "      <td>eng</td>\n",
       "      <td>652</td>\n",
       "      <td>2095690</td>\n",
       "      <td>27591</td>\n",
       "      <td>9/16/2006</td>\n",
       "      <td>Scholastic Inc.</td>\n",
       "    </tr>\n",
       "    <tr>\n",
       "      <th>1</th>\n",
       "      <td>2</td>\n",
       "      <td>Harry Potter and the Order of the Phoenix (Har...</td>\n",
       "      <td>J.K. Rowling/Mary GrandPrÃ©</td>\n",
       "      <td>4.49</td>\n",
       "      <td>439358078</td>\n",
       "      <td>9.78044E+12</td>\n",
       "      <td>eng</td>\n",
       "      <td>870</td>\n",
       "      <td>2153167</td>\n",
       "      <td>29221</td>\n",
       "      <td>9/1/2004</td>\n",
       "      <td>Scholastic Inc.</td>\n",
       "    </tr>\n",
       "    <tr>\n",
       "      <th>2</th>\n",
       "      <td>4</td>\n",
       "      <td>Harry Potter and the Chamber of Secrets (Harry...</td>\n",
       "      <td>J.K. Rowling</td>\n",
       "      <td>4.42</td>\n",
       "      <td>439554896</td>\n",
       "      <td>9.78044E+12</td>\n",
       "      <td>eng</td>\n",
       "      <td>352</td>\n",
       "      <td>6333</td>\n",
       "      <td>244</td>\n",
       "      <td>11/1/2003</td>\n",
       "      <td>Scholastic</td>\n",
       "    </tr>\n",
       "    <tr>\n",
       "      <th>3</th>\n",
       "      <td>5</td>\n",
       "      <td>Harry Potter and the Prisoner of Azkaban (Harr...</td>\n",
       "      <td>J.K. Rowling/Mary GrandPrÃ©</td>\n",
       "      <td>4.56</td>\n",
       "      <td>043965548X</td>\n",
       "      <td>9.78044E+12</td>\n",
       "      <td>eng</td>\n",
       "      <td>435</td>\n",
       "      <td>2339585</td>\n",
       "      <td>36325</td>\n",
       "      <td>5/1/2004</td>\n",
       "      <td>Scholastic Inc.</td>\n",
       "    </tr>\n",
       "    <tr>\n",
       "      <th>4</th>\n",
       "      <td>8</td>\n",
       "      <td>Harry Potter Boxed Set  Books 1-5 (Harry Potte...</td>\n",
       "      <td>J.K. Rowling/Mary GrandPrÃ©</td>\n",
       "      <td>4.78</td>\n",
       "      <td>439682584</td>\n",
       "      <td>9.78044E+12</td>\n",
       "      <td>eng</td>\n",
       "      <td>2690</td>\n",
       "      <td>41428</td>\n",
       "      <td>164</td>\n",
       "      <td>9/13/2004</td>\n",
       "      <td>Scholastic</td>\n",
       "    </tr>\n",
       "  </tbody>\n",
       "</table>\n",
       "</div>"
      ],
      "text/plain": [
       "   bookID                                              title  \\\n",
       "0       1  Harry Potter and the Half-Blood Prince (Harry ...   \n",
       "1       2  Harry Potter and the Order of the Phoenix (Har...   \n",
       "2       4  Harry Potter and the Chamber of Secrets (Harry...   \n",
       "3       5  Harry Potter and the Prisoner of Azkaban (Harr...   \n",
       "4       8  Harry Potter Boxed Set  Books 1-5 (Harry Potte...   \n",
       "\n",
       "                       authors average_rating        isbn       isbn13  \\\n",
       "0  J.K. Rowling/Mary GrandPrÃ©           4.57   439785960  9.78044E+12   \n",
       "1  J.K. Rowling/Mary GrandPrÃ©           4.49   439358078  9.78044E+12   \n",
       "2                 J.K. Rowling           4.42   439554896  9.78044E+12   \n",
       "3  J.K. Rowling/Mary GrandPrÃ©           4.56  043965548X  9.78044E+12   \n",
       "4  J.K. Rowling/Mary GrandPrÃ©           4.78   439682584  9.78044E+12   \n",
       "\n",
       "  language_code   num_pages  ratings_count  text_reviews_count  \\\n",
       "0           eng         652        2095690               27591   \n",
       "1           eng         870        2153167               29221   \n",
       "2           eng         352           6333                 244   \n",
       "3           eng         435        2339585               36325   \n",
       "4           eng        2690          41428                 164   \n",
       "\n",
       "  publication_date        publisher  \n",
       "0        9/16/2006  Scholastic Inc.  \n",
       "1         9/1/2004  Scholastic Inc.  \n",
       "2        11/1/2003       Scholastic  \n",
       "3         5/1/2004  Scholastic Inc.  \n",
       "4        9/13/2004       Scholastic  "
      ]
     },
     "execution_count": 2,
     "metadata": {},
     "output_type": "execute_result"
    }
   ],
   "source": [
    "df = pd.read_csv('../data/books.csv')\n",
    "df.head()"
   ]
  },
  {
   "cell_type": "code",
   "execution_count": 3,
   "id": "0f30f32c-abd8-4e90-8efd-a44a53804245",
   "metadata": {},
   "outputs": [
    {
     "data": {
      "text/html": [
       "<div>\n",
       "<style scoped>\n",
       "    .dataframe tbody tr th:only-of-type {\n",
       "        vertical-align: middle;\n",
       "    }\n",
       "\n",
       "    .dataframe tbody tr th {\n",
       "        vertical-align: top;\n",
       "    }\n",
       "\n",
       "    .dataframe thead th {\n",
       "        text-align: right;\n",
       "    }\n",
       "</style>\n",
       "<table border=\"1\" class=\"dataframe\">\n",
       "  <thead>\n",
       "    <tr style=\"text-align: right;\">\n",
       "      <th></th>\n",
       "      <th>bookID</th>\n",
       "      <th>ratings_count</th>\n",
       "      <th>text_reviews_count</th>\n",
       "    </tr>\n",
       "  </thead>\n",
       "  <tbody>\n",
       "    <tr>\n",
       "      <th>count</th>\n",
       "      <td>11127.000000</td>\n",
       "      <td>1.112700e+04</td>\n",
       "      <td>11127.000000</td>\n",
       "    </tr>\n",
       "    <tr>\n",
       "      <th>mean</th>\n",
       "      <td>21310.938887</td>\n",
       "      <td>1.793649e+04</td>\n",
       "      <td>541.864474</td>\n",
       "    </tr>\n",
       "    <tr>\n",
       "      <th>std</th>\n",
       "      <td>13093.358023</td>\n",
       "      <td>1.124794e+05</td>\n",
       "      <td>2576.174610</td>\n",
       "    </tr>\n",
       "    <tr>\n",
       "      <th>min</th>\n",
       "      <td>1.000000</td>\n",
       "      <td>0.000000e+00</td>\n",
       "      <td>0.000000</td>\n",
       "    </tr>\n",
       "    <tr>\n",
       "      <th>25%</th>\n",
       "      <td>10287.000000</td>\n",
       "      <td>1.040000e+02</td>\n",
       "      <td>9.000000</td>\n",
       "    </tr>\n",
       "    <tr>\n",
       "      <th>50%</th>\n",
       "      <td>20287.000000</td>\n",
       "      <td>7.450000e+02</td>\n",
       "      <td>47.000000</td>\n",
       "    </tr>\n",
       "    <tr>\n",
       "      <th>75%</th>\n",
       "      <td>32104.500000</td>\n",
       "      <td>4.993500e+03</td>\n",
       "      <td>237.500000</td>\n",
       "    </tr>\n",
       "    <tr>\n",
       "      <th>max</th>\n",
       "      <td>45641.000000</td>\n",
       "      <td>4.597666e+06</td>\n",
       "      <td>94265.000000</td>\n",
       "    </tr>\n",
       "  </tbody>\n",
       "</table>\n",
       "</div>"
      ],
      "text/plain": [
       "             bookID  ratings_count  text_reviews_count\n",
       "count  11127.000000   1.112700e+04        11127.000000\n",
       "mean   21310.938887   1.793649e+04          541.864474\n",
       "std    13093.358023   1.124794e+05         2576.174610\n",
       "min        1.000000   0.000000e+00            0.000000\n",
       "25%    10287.000000   1.040000e+02            9.000000\n",
       "50%    20287.000000   7.450000e+02           47.000000\n",
       "75%    32104.500000   4.993500e+03          237.500000\n",
       "max    45641.000000   4.597666e+06        94265.000000"
      ]
     },
     "execution_count": 3,
     "metadata": {},
     "output_type": "execute_result"
    }
   ],
   "source": [
    "df.describe()"
   ]
  },
  {
   "cell_type": "code",
   "execution_count": 4,
   "id": "8e31a5c2-fd09-43f2-a240-7875ef56e619",
   "metadata": {},
   "outputs": [
    {
     "data": {
      "text/plain": [
       "10352"
      ]
     },
     "execution_count": 4,
     "metadata": {},
     "output_type": "execute_result"
    }
   ],
   "source": [
    "df['title'].nunique()"
   ]
  },
  {
   "cell_type": "code",
   "execution_count": 5,
   "id": "38976589-e0a2-4ad8-a698-61b6fe08b9af",
   "metadata": {},
   "outputs": [
    {
     "data": {
      "text/plain": [
       "11126"
      ]
     },
     "execution_count": 5,
     "metadata": {},
     "output_type": "execute_result"
    }
   ],
   "source": [
    "df['isbn'].nunique()"
   ]
  },
  {
   "cell_type": "code",
   "execution_count": 6,
   "id": "83667aaa-f11b-4af5-a288-eaf956b039be",
   "metadata": {},
   "outputs": [
    {
     "data": {
      "text/plain": [
       "1426"
      ]
     },
     "execution_count": 6,
     "metadata": {},
     "output_type": "execute_result"
    }
   ],
   "source": [
    "df[df['ratings_count'] <30]['title'].count()"
   ]
  },
  {
   "cell_type": "code",
   "execution_count": 7,
   "id": "384cb117-c127-4463-804e-5208940be8bb",
   "metadata": {},
   "outputs": [],
   "source": [
    "#Eliminating books with less than 30 reviews for analysis\n",
    "df = df[df['ratings_count'] > 29]"
   ]
  },
  {
   "cell_type": "code",
   "execution_count": 11,
   "id": "fce97782-1cf5-465d-9a35-64f2639095ff",
   "metadata": {},
   "outputs": [
    {
     "data": {
      "text/plain": [
       "language_code\n",
       "eng    9393\n",
       "Name: count, dtype: int64"
      ]
     },
     "execution_count": 11,
     "metadata": {},
     "output_type": "execute_result"
    }
   ],
   "source": [
    "df['language_code'].value_counts()"
   ]
  },
  {
   "cell_type": "code",
   "execution_count": 9,
   "id": "2eacc5e7-6fac-4e1e-ab74-b0bfa8d93940",
   "metadata": {},
   "outputs": [],
   "source": [
    "#Remove non-english books\n",
    "df['language_code'] = df['language_code'].replace({'en-US':'eng','en-GB':'eng','en-CA':'eng'})\n",
    "df  =  df[df['language_code'] == 'eng']"
   ]
  },
  {
   "cell_type": "code",
   "execution_count": 12,
   "id": "4b6158f8-81f6-4250-8a57-6af61827caaf",
   "metadata": {},
   "outputs": [
    {
     "data": {
      "text/plain": [
       "bookID                 int64\n",
       "title                 object\n",
       "authors               object\n",
       "average_rating        object\n",
       "isbn                  object\n",
       "isbn13                object\n",
       "language_code         object\n",
       "  num_pages           object\n",
       "ratings_count          int64\n",
       "text_reviews_count     int64\n",
       "publication_date      object\n",
       "publisher             object\n",
       "dtype: object"
      ]
     },
     "execution_count": 12,
     "metadata": {},
     "output_type": "execute_result"
    }
   ],
   "source": [
    "df.dtypes"
   ]
  },
  {
   "cell_type": "code",
   "execution_count": 23,
   "id": "cccd02c4-9963-4656-86fd-f4dad22ec244",
   "metadata": {},
   "outputs": [],
   "source": [
    "#clean and convert num_pages to integer\n",
    "df = df.rename(columns = {'  num_pages':'num_pages'})\n",
    "df['num_pages'] = df['num_pages'].astype('int')"
   ]
  },
  {
   "cell_type": "code",
   "execution_count": 48,
   "id": "2932feda-9602-4d9e-9e2b-32e1cc47f220",
   "metadata": {},
   "outputs": [],
   "source": [
    "df['year'] = df['publication_date'].str.strip().str[-4:]\n",
    "df['year'] = df['year'].astype('int')"
   ]
  },
  {
   "cell_type": "code",
   "execution_count": null,
   "id": "94bf22d7-20f9-4393-8b00-a73aa016c2bc",
   "metadata": {},
   "outputs": [],
   "source": []
  }
 ],
 "metadata": {
  "kernelspec": {
   "display_name": "new_env",
   "language": "python",
   "name": "new_env"
  },
  "language_info": {
   "codemirror_mode": {
    "name": "ipython",
    "version": 3
   },
   "file_extension": ".py",
   "mimetype": "text/x-python",
   "name": "python",
   "nbconvert_exporter": "python",
   "pygments_lexer": "ipython3",
   "version": "3.9.16"
  }
 },
 "nbformat": 4,
 "nbformat_minor": 5
}
